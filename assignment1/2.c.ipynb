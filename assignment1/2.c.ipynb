{
 "cells": [
  {
   "cell_type": "code",
   "execution_count": 10,
   "metadata": {},
   "outputs": [
    {
     "data": {
      "text/plain": [
       "mean      217.7309\n",
       "median     21.0000\n",
       "dtype: float64"
      ]
     },
     "execution_count": 10,
     "metadata": {},
     "output_type": "execute_result"
    }
   ],
   "source": [
    "import random\n",
    "import numpy as np\n",
    "import pandas as pd\n",
    "\n",
    "probabilities = {outcome: 1/64 for outcome in [\n",
    "    \"BAR/BAR/BAR\", \"BELL/BELL/BELL\", \"LEMON/LEMON/LEMON\", \"CHERRY/CHERRY/CHERRY\"]}\n",
    "probabilities.update(\n",
    "    {\"CHERRY/CHERRY/?\": (1/16 - 1/64), \"CHERRY/?/?\": (1/4 - 1/16)})\n",
    "\n",
    "payouts = {\n",
    "    \"BAR/BAR/BAR\": 20,\n",
    "    \"BELL/BELL/BELL\": 15,\n",
    "    \"LEMON/LEMON/LEMON\": 5,\n",
    "    \"CHERRY/CHERRY/CHERRY\": 3,\n",
    "    \"CHERRY/CHERRY/?\": 2,\n",
    "    \"CHERRY/?/?\": 1\n",
    "}\n",
    "\n",
    "\n",
    "def simulate_slot_machine(starting_coins, max_simulations=10000):\n",
    "    results = []\n",
    "    for _ in range(max_simulations):\n",
    "        coins, plays = starting_coins, 0\n",
    "        while coins > 0:\n",
    "            plays += 1\n",
    "            spin = random.random()\n",
    "            for outcome, prob in probabilities.items():\n",
    "                spin -= prob\n",
    "                if spin <= 0:\n",
    "\n",
    "                    coins += payouts[outcome] - 1\n",
    "                    break\n",
    "            else:\n",
    "                coins -= 1\n",
    "        results.append(plays)\n",
    "    return pd.Series(results)\n",
    "\n",
    "\n",
    "results_series = simulate_slot_machine(\n",
    "    starting_coins=10, max_simulations=10000)\n",
    "summary = results_series.describe()[[\"mean\", \"50%\"]]\n",
    "summary.rename(index={\"50%\": \"median\"})"
   ]
  }
 ],
 "metadata": {
  "kernelspec": {
   "display_name": "Python 3",
   "language": "python",
   "name": "python3"
  },
  "language_info": {
   "codemirror_mode": {
    "name": "ipython",
    "version": 3
   },
   "file_extension": ".py",
   "mimetype": "text/x-python",
   "name": "python",
   "nbconvert_exporter": "python",
   "pygments_lexer": "ipython3",
   "version": "3.10.7"
  }
 },
 "nbformat": 4,
 "nbformat_minor": 2
}
