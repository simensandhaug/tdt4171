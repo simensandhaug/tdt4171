{
 "cells": [
  {
   "cell_type": "code",
   "execution_count": 8,
   "metadata": {},
   "outputs": [
    {
     "data": {
      "text/plain": [
       "(np.float64(0.5510204081632653), np.int64(23))"
      ]
     },
     "execution_count": 8,
     "metadata": {},
     "output_type": "execute_result"
    }
   ],
   "source": [
    "import random\n",
    "import numpy as np\n",
    "from collections import Counter\n",
    "\n",
    "# a)\n",
    "\n",
    "\n",
    "def p_birthday_same_day(N, max_simulations=10000):\n",
    "    counter = Counter()\n",
    "    for _ in range(max_simulations):\n",
    "        birthdays = [random.randint(1, 365) for _ in range(N)]\n",
    "        if len(set(birthdays)) < N:\n",
    "            counter[True] += 1\n",
    "    return counter[True] / max_simulations\n",
    "\n",
    "\n",
    "# b)\n",
    "N_values = np.arange(1, 50)\n",
    "p_values = np.array([p_birthday_same_day(N) for N in N_values])\n",
    "proportion_p_gt_half = sum(p_values > 0.5) / len(p_values)\n",
    "smallest_N_with_p_gt_half = N_values[p_values >= 0.5][0]\n",
    "\n",
    "proportion_p_gt_half, smallest_N_with_p_gt_half"
   ]
  }
 ],
 "metadata": {
  "kernelspec": {
   "display_name": "Python 3",
   "language": "python",
   "name": "python3"
  },
  "language_info": {
   "codemirror_mode": {
    "name": "ipython",
    "version": 3
   },
   "file_extension": ".py",
   "mimetype": "text/x-python",
   "name": "python",
   "nbconvert_exporter": "python",
   "pygments_lexer": "ipython3",
   "version": "3.10.7"
  }
 },
 "nbformat": 4,
 "nbformat_minor": 2
}
