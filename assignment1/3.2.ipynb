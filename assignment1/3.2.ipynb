{
 "cells": [
  {
   "cell_type": "code",
   "execution_count": 3,
   "metadata": {},
   "outputs": [
    {
     "data": {
      "text/plain": [
       "(np.float64(2365.1803), np.float64(2295.0))"
      ]
     },
     "execution_count": 3,
     "metadata": {},
     "output_type": "execute_result"
    }
   ],
   "source": [
    "import random\n",
    "import numpy as np\n",
    "\n",
    "def expected_group_size(max_simulations=10000):\n",
    "    total_people = []\n",
    "    for _ in range(max_simulations):\n",
    "        days_covered = set()\n",
    "        people = 0\n",
    "        while len(days_covered) < 365:\n",
    "            days_covered.add(random.randint(1, 365))\n",
    "            people += 1\n",
    "        total_people.append(people)\n",
    "    return np.mean(total_people), np.median(total_people)\n",
    "\n",
    "expected_group_size()"
   ]
  }
 ],
 "metadata": {
  "kernelspec": {
   "display_name": "Python 3",
   "language": "python",
   "name": "python3"
  },
  "language_info": {
   "codemirror_mode": {
    "name": "ipython",
    "version": 3
   },
   "file_extension": ".py",
   "mimetype": "text/x-python",
   "name": "python",
   "nbconvert_exporter": "python",
   "pygments_lexer": "ipython3",
   "version": "3.10.7"
  }
 },
 "nbformat": 4,
 "nbformat_minor": 2
}
